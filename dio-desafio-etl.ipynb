{
 "cells": [
  {
   "cell_type": "code",
   "execution_count": 1,
   "id": "8ec20429",
   "metadata": {
    "_cell_guid": "b1076dfc-b9ad-4769-8c92-a6c4dae69d19",
    "_uuid": "8f2839f25d086af736a60e9eeb907d3b93b6e0e5",
    "execution": {
     "iopub.execute_input": "2023-08-31T16:12:21.791312Z",
     "iopub.status.busy": "2023-08-31T16:12:21.790729Z",
     "iopub.status.idle": "2023-08-31T16:12:21.803786Z",
     "shell.execute_reply": "2023-08-31T16:12:21.802635Z"
    },
    "papermill": {
     "duration": 0.023787,
     "end_time": "2023-08-31T16:12:21.806177",
     "exception": false,
     "start_time": "2023-08-31T16:12:21.782390",
     "status": "completed"
    },
    "tags": []
   },
   "outputs": [],
   "source": [
    "import pandas as pd"
   ]
  },
  {
   "cell_type": "markdown",
   "id": "71f3dc54",
   "metadata": {
    "papermill": {
     "duration": 0.004848,
     "end_time": "2023-08-31T16:12:21.816749",
     "exception": false,
     "start_time": "2023-08-31T16:12:21.811901",
     "status": "completed"
    },
    "tags": []
   },
   "source": [
    "# Extract"
   ]
  },
  {
   "cell_type": "code",
   "execution_count": 2,
   "id": "02f16d5d",
   "metadata": {
    "execution": {
     "iopub.execute_input": "2023-08-31T16:12:21.829071Z",
     "iopub.status.busy": "2023-08-31T16:12:21.828643Z",
     "iopub.status.idle": "2023-08-31T16:12:21.901226Z",
     "shell.execute_reply": "2023-08-31T16:12:21.899867Z"
    },
    "papermill": {
     "duration": 0.082129,
     "end_time": "2023-08-31T16:12:21.903874",
     "exception": false,
     "start_time": "2023-08-31T16:12:21.821745",
     "status": "completed"
    },
    "tags": []
   },
   "outputs": [
    {
     "data": {
      "text/html": [
       "<div>\n",
       "<style scoped>\n",
       "    .dataframe tbody tr th:only-of-type {\n",
       "        vertical-align: middle;\n",
       "    }\n",
       "\n",
       "    .dataframe tbody tr th {\n",
       "        vertical-align: top;\n",
       "    }\n",
       "\n",
       "    .dataframe thead th {\n",
       "        text-align: right;\n",
       "    }\n",
       "</style>\n",
       "<table border=\"1\" class=\"dataframe\">\n",
       "  <thead>\n",
       "    <tr style=\"text-align: right;\">\n",
       "      <th></th>\n",
       "      <th>rank</th>\n",
       "      <th>Youtuber</th>\n",
       "      <th>subscribers</th>\n",
       "      <th>video views</th>\n",
       "      <th>category</th>\n",
       "      <th>Title</th>\n",
       "      <th>uploads</th>\n",
       "      <th>Country</th>\n",
       "      <th>Abbreviation</th>\n",
       "      <th>channel_type</th>\n",
       "      <th>...</th>\n",
       "      <th>subscribers_for_last_30_days</th>\n",
       "      <th>created_year</th>\n",
       "      <th>created_month</th>\n",
       "      <th>created_date</th>\n",
       "      <th>Gross tertiary education enrollment (%)</th>\n",
       "      <th>Population</th>\n",
       "      <th>Unemployment rate</th>\n",
       "      <th>Urban_population</th>\n",
       "      <th>Latitude</th>\n",
       "      <th>Longitude</th>\n",
       "    </tr>\n",
       "  </thead>\n",
       "  <tbody>\n",
       "    <tr>\n",
       "      <th>0</th>\n",
       "      <td>1</td>\n",
       "      <td>T-Series</td>\n",
       "      <td>245000000</td>\n",
       "      <td>2.280000e+11</td>\n",
       "      <td>Music</td>\n",
       "      <td>T-Series</td>\n",
       "      <td>20082</td>\n",
       "      <td>India</td>\n",
       "      <td>IN</td>\n",
       "      <td>Music</td>\n",
       "      <td>...</td>\n",
       "      <td>2000000.0</td>\n",
       "      <td>2006.0</td>\n",
       "      <td>Mar</td>\n",
       "      <td>13.0</td>\n",
       "      <td>28.1</td>\n",
       "      <td>1.366418e+09</td>\n",
       "      <td>5.36</td>\n",
       "      <td>471031528.0</td>\n",
       "      <td>20.593684</td>\n",
       "      <td>78.962880</td>\n",
       "    </tr>\n",
       "    <tr>\n",
       "      <th>1</th>\n",
       "      <td>2</td>\n",
       "      <td>YouTube Movies</td>\n",
       "      <td>170000000</td>\n",
       "      <td>0.000000e+00</td>\n",
       "      <td>Film &amp; Animation</td>\n",
       "      <td>youtubemovies</td>\n",
       "      <td>1</td>\n",
       "      <td>United States</td>\n",
       "      <td>US</td>\n",
       "      <td>Games</td>\n",
       "      <td>...</td>\n",
       "      <td>NaN</td>\n",
       "      <td>2006.0</td>\n",
       "      <td>Mar</td>\n",
       "      <td>5.0</td>\n",
       "      <td>88.2</td>\n",
       "      <td>3.282395e+08</td>\n",
       "      <td>14.70</td>\n",
       "      <td>270663028.0</td>\n",
       "      <td>37.090240</td>\n",
       "      <td>-95.712891</td>\n",
       "    </tr>\n",
       "    <tr>\n",
       "      <th>2</th>\n",
       "      <td>3</td>\n",
       "      <td>MrBeast</td>\n",
       "      <td>166000000</td>\n",
       "      <td>2.836884e+10</td>\n",
       "      <td>Entertainment</td>\n",
       "      <td>MrBeast</td>\n",
       "      <td>741</td>\n",
       "      <td>United States</td>\n",
       "      <td>US</td>\n",
       "      <td>Entertainment</td>\n",
       "      <td>...</td>\n",
       "      <td>8000000.0</td>\n",
       "      <td>2012.0</td>\n",
       "      <td>Feb</td>\n",
       "      <td>20.0</td>\n",
       "      <td>88.2</td>\n",
       "      <td>3.282395e+08</td>\n",
       "      <td>14.70</td>\n",
       "      <td>270663028.0</td>\n",
       "      <td>37.090240</td>\n",
       "      <td>-95.712891</td>\n",
       "    </tr>\n",
       "    <tr>\n",
       "      <th>3</th>\n",
       "      <td>4</td>\n",
       "      <td>Cocomelon - Nursery Rhymes</td>\n",
       "      <td>162000000</td>\n",
       "      <td>1.640000e+11</td>\n",
       "      <td>Education</td>\n",
       "      <td>Cocomelon - Nursery Rhymes</td>\n",
       "      <td>966</td>\n",
       "      <td>United States</td>\n",
       "      <td>US</td>\n",
       "      <td>Education</td>\n",
       "      <td>...</td>\n",
       "      <td>1000000.0</td>\n",
       "      <td>2006.0</td>\n",
       "      <td>Sep</td>\n",
       "      <td>1.0</td>\n",
       "      <td>88.2</td>\n",
       "      <td>3.282395e+08</td>\n",
       "      <td>14.70</td>\n",
       "      <td>270663028.0</td>\n",
       "      <td>37.090240</td>\n",
       "      <td>-95.712891</td>\n",
       "    </tr>\n",
       "    <tr>\n",
       "      <th>4</th>\n",
       "      <td>5</td>\n",
       "      <td>SET India</td>\n",
       "      <td>159000000</td>\n",
       "      <td>1.480000e+11</td>\n",
       "      <td>Shows</td>\n",
       "      <td>SET India</td>\n",
       "      <td>116536</td>\n",
       "      <td>India</td>\n",
       "      <td>IN</td>\n",
       "      <td>Entertainment</td>\n",
       "      <td>...</td>\n",
       "      <td>1000000.0</td>\n",
       "      <td>2006.0</td>\n",
       "      <td>Sep</td>\n",
       "      <td>20.0</td>\n",
       "      <td>28.1</td>\n",
       "      <td>1.366418e+09</td>\n",
       "      <td>5.36</td>\n",
       "      <td>471031528.0</td>\n",
       "      <td>20.593684</td>\n",
       "      <td>78.962880</td>\n",
       "    </tr>\n",
       "  </tbody>\n",
       "</table>\n",
       "<p>5 rows × 28 columns</p>\n",
       "</div>"
      ],
      "text/plain": [
       "   rank                    Youtuber  subscribers   video views  \\\n",
       "0     1                    T-Series    245000000  2.280000e+11   \n",
       "1     2              YouTube Movies    170000000  0.000000e+00   \n",
       "2     3                     MrBeast    166000000  2.836884e+10   \n",
       "3     4  Cocomelon - Nursery Rhymes    162000000  1.640000e+11   \n",
       "4     5                   SET India    159000000  1.480000e+11   \n",
       "\n",
       "           category                       Title  uploads        Country  \\\n",
       "0             Music                    T-Series    20082          India   \n",
       "1  Film & Animation               youtubemovies        1  United States   \n",
       "2     Entertainment                     MrBeast      741  United States   \n",
       "3         Education  Cocomelon - Nursery Rhymes      966  United States   \n",
       "4             Shows                   SET India   116536          India   \n",
       "\n",
       "  Abbreviation   channel_type  ...  subscribers_for_last_30_days  \\\n",
       "0           IN          Music  ...                     2000000.0   \n",
       "1           US          Games  ...                           NaN   \n",
       "2           US  Entertainment  ...                     8000000.0   \n",
       "3           US      Education  ...                     1000000.0   \n",
       "4           IN  Entertainment  ...                     1000000.0   \n",
       "\n",
       "   created_year  created_month  created_date  \\\n",
       "0        2006.0            Mar          13.0   \n",
       "1        2006.0            Mar           5.0   \n",
       "2        2012.0            Feb          20.0   \n",
       "3        2006.0            Sep           1.0   \n",
       "4        2006.0            Sep          20.0   \n",
       "\n",
       "   Gross tertiary education enrollment (%)    Population  Unemployment rate  \\\n",
       "0                                     28.1  1.366418e+09               5.36   \n",
       "1                                     88.2  3.282395e+08              14.70   \n",
       "2                                     88.2  3.282395e+08              14.70   \n",
       "3                                     88.2  3.282395e+08              14.70   \n",
       "4                                     28.1  1.366418e+09               5.36   \n",
       "\n",
       "   Urban_population   Latitude  Longitude  \n",
       "0       471031528.0  20.593684  78.962880  \n",
       "1       270663028.0  37.090240 -95.712891  \n",
       "2       270663028.0  37.090240 -95.712891  \n",
       "3       270663028.0  37.090240 -95.712891  \n",
       "4       471031528.0  20.593684  78.962880  \n",
       "\n",
       "[5 rows x 28 columns]"
      ]
     },
     "execution_count": 2,
     "metadata": {},
     "output_type": "execute_result"
    }
   ],
   "source": [
    "path = '/kaggle/input/global-youtube-statistics-2023/Global YouTube Statistics.csv'\n",
    "df = pd.read_csv(path, encoding=\"latin-1\") # encoding para evitar o erro UnicadeDecodeError\n",
    "df.head()"
   ]
  },
  {
   "cell_type": "markdown",
   "id": "653f443f",
   "metadata": {
    "papermill": {
     "duration": 0.005353,
     "end_time": "2023-08-31T16:12:21.914924",
     "exception": false,
     "start_time": "2023-08-31T16:12:21.909571",
     "status": "completed"
    },
    "tags": []
   },
   "source": [
    "# Transform\n",
    "O objetivo é pegar os top 5 de algumas categorias."
   ]
  },
  {
   "cell_type": "code",
   "execution_count": 3,
   "id": "1c6bc595",
   "metadata": {
    "execution": {
     "iopub.execute_input": "2023-08-31T16:12:21.928045Z",
     "iopub.status.busy": "2023-08-31T16:12:21.927687Z",
     "iopub.status.idle": "2023-08-31T16:12:21.936249Z",
     "shell.execute_reply": "2023-08-31T16:12:21.934781Z"
    },
    "papermill": {
     "duration": 0.018114,
     "end_time": "2023-08-31T16:12:21.938680",
     "exception": false,
     "start_time": "2023-08-31T16:12:21.920566",
     "status": "completed"
    },
    "tags": []
   },
   "outputs": [
    {
     "name": "stdout",
     "output_type": "stream",
     "text": [
      "['T-Series', 'youtubemovies', 'MrBeast', 'Cocomelon - Nursery Rhymes', 'SET India']\n"
     ]
    }
   ],
   "source": [
    "top_subscribers = df.sort_values(by=[\"subscribers\"], ascending=False)[\"Title\"].head(5).tolist()\n",
    "print(top_subscribers)"
   ]
  },
  {
   "cell_type": "code",
   "execution_count": 4,
   "id": "8189fedc",
   "metadata": {
    "execution": {
     "iopub.execute_input": "2023-08-31T16:12:21.953441Z",
     "iopub.status.busy": "2023-08-31T16:12:21.953064Z",
     "iopub.status.idle": "2023-08-31T16:12:21.960238Z",
     "shell.execute_reply": "2023-08-31T16:12:21.958963Z"
    },
    "papermill": {
     "duration": 0.016834,
     "end_time": "2023-08-31T16:12:21.962420",
     "exception": false,
     "start_time": "2023-08-31T16:12:21.945586",
     "status": "completed"
    },
    "tags": []
   },
   "outputs": [
    {
     "name": "stdout",
     "output_type": "stream",
     "text": [
      "['T-Series', 'Cocomelon - Nursery Rhymes', 'SET India', 'Sony SAB', 'ýýý Kids Diana Show']\n"
     ]
    }
   ],
   "source": [
    "top_views = df.sort_values(by=[\"video views\"], ascending=False)[\"Title\"].head(5).tolist()\n",
    "print(top_views)"
   ]
  },
  {
   "cell_type": "code",
   "execution_count": 5,
   "id": "667e1d09",
   "metadata": {
    "execution": {
     "iopub.execute_input": "2023-08-31T16:12:21.976635Z",
     "iopub.status.busy": "2023-08-31T16:12:21.976217Z",
     "iopub.status.idle": "2023-08-31T16:12:21.985312Z",
     "shell.execute_reply": "2023-08-31T16:12:21.984494Z"
    },
    "papermill": {
     "duration": 0.019115,
     "end_time": "2023-08-31T16:12:21.987403",
     "exception": false,
     "start_time": "2023-08-31T16:12:21.968288",
     "status": "completed"
    },
    "tags": []
   },
   "outputs": [
    {
     "name": "stdout",
     "output_type": "stream",
     "text": [
      "['Music', 'Education', 'Shows', 'People & Blogs', 'Sports']\n"
     ]
    }
   ],
   "source": [
    "top_categories = df.sort_values(by=[\"video views\"], ascending=False)[\"category\"].drop_duplicates().head(5).tolist()\n",
    "print(top_categories)"
   ]
  },
  {
   "cell_type": "code",
   "execution_count": 6,
   "id": "3c47da71",
   "metadata": {
    "execution": {
     "iopub.execute_input": "2023-08-31T16:12:22.001294Z",
     "iopub.status.busy": "2023-08-31T16:12:22.000788Z",
     "iopub.status.idle": "2023-08-31T16:12:22.008202Z",
     "shell.execute_reply": "2023-08-31T16:12:22.006991Z"
    },
    "papermill": {
     "duration": 0.017517,
     "end_time": "2023-08-31T16:12:22.010609",
     "exception": false,
     "start_time": "2023-08-31T16:12:21.993092",
     "status": "completed"
    },
    "tags": []
   },
   "outputs": [
    {
     "name": "stdout",
     "output_type": "stream",
     "text": [
      "['ýýýýýýýýý KIMPRO', 'DaFuq!?Boom!', 'T-Series', 'KL BRO Biju Rithvik', 'Cocomelon - Nursery Rhymes']\n"
     ]
    }
   ],
   "source": [
    "top_earnings = df.sort_values(by=[\"highest_yearly_earnings\"], ascending=False)[\"Title\"].head(5).tolist()\n",
    "print(top_earnings)"
   ]
  },
  {
   "cell_type": "code",
   "execution_count": 7,
   "id": "0166f474",
   "metadata": {
    "execution": {
     "iopub.execute_input": "2023-08-31T16:12:22.024909Z",
     "iopub.status.busy": "2023-08-31T16:12:22.024523Z",
     "iopub.status.idle": "2023-08-31T16:12:22.032372Z",
     "shell.execute_reply": "2023-08-31T16:12:22.031230Z"
    },
    "papermill": {
     "duration": 0.018563,
     "end_time": "2023-08-31T16:12:22.034777",
     "exception": false,
     "start_time": "2023-08-31T16:12:22.016214",
     "status": "completed"
    },
    "tags": []
   },
   "outputs": [],
   "source": [
    "top_countries = df.sort_values(by=[\"video views\"], ascending=False)[\"Country\"].drop_duplicates().head(5).tolist()"
   ]
  },
  {
   "cell_type": "markdown",
   "id": "b5f09d4c",
   "metadata": {
    "papermill": {
     "duration": 0.005389,
     "end_time": "2023-08-31T16:12:22.045813",
     "exception": false,
     "start_time": "2023-08-31T16:12:22.040424",
     "status": "completed"
    },
    "tags": []
   },
   "source": [
    "# Load\n",
    "Aqui criei uma nova tabela para armazenar os resultados dos rankings."
   ]
  },
  {
   "cell_type": "code",
   "execution_count": 8,
   "id": "ad9a7834",
   "metadata": {
    "execution": {
     "iopub.execute_input": "2023-08-31T16:12:22.059234Z",
     "iopub.status.busy": "2023-08-31T16:12:22.058785Z",
     "iopub.status.idle": "2023-08-31T16:12:22.090880Z",
     "shell.execute_reply": "2023-08-31T16:12:22.089158Z"
    },
    "papermill": {
     "duration": 0.042112,
     "end_time": "2023-08-31T16:12:22.093375",
     "exception": false,
     "start_time": "2023-08-31T16:12:22.051263",
     "status": "completed"
    },
    "tags": []
   },
   "outputs": [],
   "source": [
    "from tabulate import tabulate # biblioteca para formatar tabelas\n",
    "\n",
    "all_categories = [top_subscribers, top_views, top_categories, top_earnings, top_countries]\n",
    "\n",
    "table = []"
   ]
  },
  {
   "cell_type": "code",
   "execution_count": 9,
   "id": "b72036f4",
   "metadata": {
    "execution": {
     "iopub.execute_input": "2023-08-31T16:12:22.107357Z",
     "iopub.status.busy": "2023-08-31T16:12:22.106152Z",
     "iopub.status.idle": "2023-08-31T16:12:22.112416Z",
     "shell.execute_reply": "2023-08-31T16:12:22.111582Z"
    },
    "papermill": {
     "duration": 0.015325,
     "end_time": "2023-08-31T16:12:22.114412",
     "exception": false,
     "start_time": "2023-08-31T16:12:22.099087",
     "status": "completed"
    },
    "tags": []
   },
   "outputs": [],
   "source": [
    "for i in range(5):\n",
    "    aux_table = [item[i] for item in all_categories] # armazena o n° lugar cada categoria\n",
    "    table.append([i+1]) # adiciona a classificação do ranking\n",
    "    table[i].extend(item for item in aux_table) # adiciona todos os itens de n° lugar na tabela principal"
   ]
  },
  {
   "cell_type": "code",
   "execution_count": 10,
   "id": "1a32c0ca",
   "metadata": {
    "execution": {
     "iopub.execute_input": "2023-08-31T16:12:22.128626Z",
     "iopub.status.busy": "2023-08-31T16:12:22.127976Z",
     "iopub.status.idle": "2023-08-31T16:12:22.136823Z",
     "shell.execute_reply": "2023-08-31T16:12:22.135450Z"
    },
    "papermill": {
     "duration": 0.019406,
     "end_time": "2023-08-31T16:12:22.139783",
     "exception": false,
     "start_time": "2023-08-31T16:12:22.120377",
     "status": "completed"
    },
    "tags": []
   },
   "outputs": [
    {
     "name": "stdout",
     "output_type": "stream",
     "text": [
      "╒═══════════╤════════════════════════════╤════════════════════════════╤══════════════════╤════════════════════════════╤═══════════════╕\n",
      "│   Ranking │ Top Inscritos              │ Top Views                  │ Top Categorias   │ Top remunerados            │ Top países    │\n",
      "╞═══════════╪════════════════════════════╪════════════════════════════╪══════════════════╪════════════════════════════╪═══════════════╡\n",
      "│         1 │ T-Series                   │ T-Series                   │ Music            │ ýýýýýýýýý KIMPRO           │ India         │\n",
      "├───────────┼────────────────────────────┼────────────────────────────┼──────────────────┼────────────────────────────┼───────────────┤\n",
      "│         2 │ youtubemovies              │ Cocomelon - Nursery Rhymes │ Education        │ DaFuq!?Boom!               │ United States │\n",
      "├───────────┼────────────────────────────┼────────────────────────────┼──────────────────┼────────────────────────────┼───────────────┤\n",
      "│         3 │ MrBeast                    │ SET India                  │ Shows            │ T-Series                   │ Russia        │\n",
      "├───────────┼────────────────────────────┼────────────────────────────┼──────────────────┼────────────────────────────┼───────────────┤\n",
      "│         4 │ Cocomelon - Nursery Rhymes │ Sony SAB                   │ People & Blogs   │ KL BRO Biju Rithvik        │ Argentina     │\n",
      "├───────────┼────────────────────────────┼────────────────────────────┼──────────────────┼────────────────────────────┼───────────────┤\n",
      "│         5 │ SET India                  │ ýýý Kids Diana Show        │ Sports           │ Cocomelon - Nursery Rhymes │ Turkey        │\n",
      "╘═══════════╧════════════════════════════╧════════════════════════════╧══════════════════╧════════════════════════════╧═══════════════╛\n"
     ]
    }
   ],
   "source": [
    "headers = [\"Ranking\", \"Top Inscritos\", \"Top Views\", \"Top Categorias\", \"Top remunerados\", \"Top países\"]\n",
    "print(tabulate(table, headers=headers, tablefmt='fancy_grid'))"
   ]
  }
 ],
 "kernelspec": {
  "display_name": "Python 3",
  "language": "python",
  "name": "python3"
 },
 "language_info": {
  "codemirror_mode": {
   "name": "ipython",
   "version": 3
  },
  "file_extension": ".py",
  "mimetype": "text/x-python",
  "name": "python",
  "nbconvert_exporter": "python",
  "pygments_lexer": "ipython3",
  "version": "3.6.4"
 },
 "metadata": {
  "kernelspec": {
   "display_name": "Python 3",
   "language": "python",
   "name": "python3"
  },
  "language_info": {
   "codemirror_mode": {
    "name": "ipython",
    "version": 3
   },
   "file_extension": ".py",
   "mimetype": "text/x-python",
   "name": "python",
   "nbconvert_exporter": "python",
   "pygments_lexer": "ipython3",
   "version": "3.10.12"
  },
  "papermill": {
   "default_parameters": {},
   "duration": 10.511904,
   "end_time": "2023-08-31T16:12:23.068764",
   "environment_variables": {},
   "exception": null,
   "input_path": "__notebook__.ipynb",
   "output_path": "__notebook__.ipynb",
   "parameters": {},
   "start_time": "2023-08-31T16:12:12.556860",
   "version": "2.4.0"
  }
 },
 "nbformat": 4,
 "nbformat_minor": 5
}
